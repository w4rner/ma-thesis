{
 "cells": [
  {
   "cell_type": "code",
   "execution_count": 393,
   "metadata": {
    "collapsed": true
   },
   "outputs": [],
   "source": [
    "import pandas as pd\n",
    "import pandas_profiling\n",
    "import matplotlib.pyplot as plt\n",
    "import seaborn as sns\n",
    "%matplotlib inline"
   ]
  },
  {
   "cell_type": "markdown",
   "metadata": {},
   "source": [
    "### Read in Data "
   ]
  },
  {
   "cell_type": "code",
   "execution_count": 394,
   "metadata": {
    "collapsed": true
   },
   "outputs": [],
   "source": [
    "def pr(df):\n",
    "    p = pandas_profiling.ProfileReport(df)\n",
    "    return p  "
   ]
  },
  {
   "cell_type": "code",
   "execution_count": 395,
   "metadata": {
    "collapsed": true
   },
   "outputs": [],
   "source": [
    "DATA = \"Data/jan18.csv\""
   ]
  },
  {
   "cell_type": "code",
   "execution_count": 396,
   "metadata": {
    "collapsed": true
   },
   "outputs": [],
   "source": [
    "jan18 = pd.read_csv(DATA)"
   ]
  },
  {
   "cell_type": "code",
   "execution_count": 397,
   "metadata": {
    "collapsed": true
   },
   "outputs": [],
   "source": [
    "smart_cols = ['sex', 'hisp', 'age', 'educ2', 'inc', 'racem1', 'smart2']\n",
    "dep_cols = smart_cols+['home4nw'] #home broadband\n",
    "use_social = ['web1a','web1b', 'web1c', 'web1d', 'web1e', 'web1f', 'web1g', 'web1h']\n",
    "social_freq = ['sns2a', 'sns2b', 'sns2c', 'sns2d', 'sns2e']\n",
    "giveup = ['pial5a', 'pial5b', 'pial5c', 'pial5d']\n",
    "good_or_bad = ['pial11']\n",
    "all_cols = dep_cols + use_social + social_freq + giveup + good_or_bad"
   ]
  },
  {
   "cell_type": "code",
   "execution_count": 398,
   "metadata": {
    "collapsed": true
   },
   "outputs": [],
   "source": [
    "jan18_smart = pd.read_csv(DATA, usecols = smart_cols)\n",
    "jan18_dep = pd.read_csv(DATA, usecols = dep_cols)\n",
    "jan18_full = pd.read_csv(DATA, usecols = all_cols)"
   ]
  },
  {
   "cell_type": "code",
   "execution_count": 399,
   "metadata": {
    "collapsed": true
   },
   "outputs": [],
   "source": [
    "def pct(series, xlabel='', ylabel='', title=''):\n",
    "    '''\n",
    "    Return series of percentage distribution & histogram.\n",
    "    '''\n",
    "    vals = series.value_counts()\n",
    "    s = vals/sum(vals)*100\n",
    "    \n",
    "    s.plot(kind = 'bar')\n",
    "    plt.xlabel(xlabel)\n",
    "    plt.ylabel(ylabel)\n",
    "    plt.title(title)"
   ]
  },
  {
   "cell_type": "code",
   "execution_count": 400,
   "metadata": {},
   "outputs": [
    {
     "data": {
      "image/png": "[encoded data removed]",
      "text/plain": [
       "<matplotlib.figure.Figure at 0x1c1bb6a2e8>"
      ]
     },
     "metadata": {},
     "output_type": "display_data"
    }
   ],
   "source": [
    "pct(jan18_full['sns2a'])"
   ]
  },
  {
   "cell_type": "markdown",
   "metadata": {},
   "source": [
    "## Cleaning "
   ]
  },
  {
   "cell_type": "code",
   "execution_count": 401,
   "metadata": {
    "collapsed": true
   },
   "outputs": [],
   "source": [
    "def mapping(df, orig, new, d):\n",
    "    '''\n",
    "    Map values. Print new histogram.\n",
    "    '''\n",
    "    series = df[orig]\n",
    "    series_new = series.map(d)\n",
    "    \n",
    "    new_df = df.drop(orig, axis = 1, inplace = False)\n",
    "    new_df[new] = series_new\n",
    "    return new_df"
   ]
  },
  {
   "cell_type": "markdown",
   "metadata": {},
   "source": [
    "### Map"
   ]
  },
  {
   "cell_type": "markdown",
   "metadata": {},
   "source": [
    "#### Age "
   ]
  },
  {
   "cell_type": "code",
   "execution_count": 402,
   "metadata": {},
   "outputs": [
    {
     "data": {
      "image/png": "[encoded data removed]",
      "text/plain": [
       "<matplotlib.figure.Figure at 0x1a0f3f5630>"
      ]
     },
     "metadata": {},
     "output_type": "display_data"
    }
   ],
   "source": [
    "ax = jan18_smart['age'].plot(kind = 'hist')\n",
    "plt.xlabel('Age')\n",
    "plt.title('Age distribution & bin cutoffs')\n",
    "\n",
    "for xi in [30,45,60]:\n",
    "    ax.axes.axvline(x=xi, color = 'r')\n",
    "plt.savefig('age.png')"
   ]
  },
  {
   "cell_type": "code",
   "execution_count": 403,
   "metadata": {},
   "outputs": [
    {
     "data": {
      "text/plain": [
       "\"\\ndef age(df):\\n    \\n    def bin_age(df, lower, upper, new):\\n        # If lower < age <= upper put in bin 'new'.\\n        df.loc[(df['age'] > lower) & (df['age']<= upper), 'age'] = new\\n\\n    lun = [(0, 30, 1), (30, 45,2), (45, 60, 3), (60, 97, 4), (97, 100, 0)] \\n    # sets of lower upper and new\\n\\n    for l, u, n in lun:\\n        bin_age(df, l, u, n)\\n\""
      ]
     },
     "execution_count": 403,
     "metadata": {},
     "output_type": "execute_result"
    }
   ],
   "source": [
    "'''\n",
    "def age(df):\n",
    "    \n",
    "    def bin_age(df, lower, upper, new):\n",
    "        # If lower < age <= upper put in bin 'new'.\n",
    "        df.loc[(df['age'] > lower) & (df['age']<= upper), 'age'] = new\n",
    "\n",
    "    lun = [(0, 30, 1), (30, 45,2), (45, 60, 3), (60, 97, 4), (97, 100, 0)] \n",
    "    # sets of lower upper and new\n",
    "\n",
    "    for l, u, n in lun:\n",
    "        bin_age(df, l, u, n)\n",
    "'''"
   ]
  },
  {
   "cell_type": "code",
   "execution_count": 404,
   "metadata": {},
   "outputs": [
    {
     "data": {
      "text/plain": [
       "'\\nfor d in dfs:\\nage(d)\\n'"
      ]
     },
     "execution_count": 404,
     "metadata": {},
     "output_type": "execute_result"
    }
   ],
   "source": [
    "'''\n",
    "for d in dfs:\n",
    "age(d)\n",
    "'''"
   ]
  },
  {
   "cell_type": "code",
   "execution_count": 405,
   "metadata": {
    "collapsed": true
   },
   "outputs": [],
   "source": [
    "def new_df(df, l):\n",
    "    '''\n",
    "    Return the new df.\n",
    "    '''\n",
    "    orig, new, d = l\n",
    "    new = mapping(df, orig, new, d)\n",
    "    return new"
   ]
  },
  {
   "cell_type": "code",
   "execution_count": 406,
   "metadata": {
    "collapsed": true
   },
   "outputs": [],
   "source": [
    "def loop(df, lists):\n",
    "    '''\n",
    "    Loop over lists doing transforms.\n",
    "    '''\n",
    "    for l in lists:\n",
    "        new = new_df(df, l)\n",
    "        df = new\n",
    "    return df"
   ]
  },
  {
   "cell_type": "code",
   "execution_count": 407,
   "metadata": {
    "collapsed": true
   },
   "outputs": [],
   "source": [
    "smart_d = {'1' : 1, '2': 2, ' ':3, '8':0, '9':0}\n",
    "smart = ['smart2', 'phone', smart_d]\n",
    "# blank means landline sample and answered no to Device1a (\"do you have a cell phone?\"). Hence, values are strings.\n",
    "\n",
    "educ_d = {1:1, 2:2, 3:3, 4:4, 5:5, 6:6, 7:7, 8:8, 98: 0, 99: 0}\n",
    "educ = ['educ2', 'educ', educ_d]\n",
    "\n",
    "hisp_d = {1:1, 2:2, 8:0, 9:0}\n",
    "hisp = ['hisp', 'non_hisp', hisp_d]\n",
    "\n",
    "inc_d = {1:1, 2:2, 3:3, 4:4, 5:5, 6:6, 7:7, 8:8, 9:9, 98: 0, 99: 0}\n",
    "inc = ['inc', 'inc', inc_d]\n",
    "\n",
    "race_d = {1:1, 2:2, 3:3, 4:4, 5:5, 6:6, 7:7, 8:0, 9:0}\n",
    "race = ['racem1', 'race', race_d]"
   ]
  },
  {
   "cell_type": "code",
   "execution_count": 408,
   "metadata": {
    "collapsed": true
   },
   "outputs": [],
   "source": [
    "dep_d = {'1' : 1, '2': 2, ' ':3, '8':0}\n",
    "dep = ['home4nw', 'broadband', dep_d]"
   ]
  },
  {
   "cell_type": "code",
   "execution_count": 409,
   "metadata": {
    "collapsed": true
   },
   "outputs": [],
   "source": [
    "lists = [smart, educ, hisp, inc, race]"
   ]
  },
  {
   "cell_type": "code",
   "execution_count": 410,
   "metadata": {
    "collapsed": true
   },
   "outputs": [],
   "source": [
    "df = loop(jan18_smart, lists)"
   ]
  },
  {
   "cell_type": "code",
   "execution_count": 411,
   "metadata": {
    "collapsed": true
   },
   "outputs": [],
   "source": [
    "lists_dep = [smart, educ, hisp, inc, race, dep]"
   ]
  },
  {
   "cell_type": "code",
   "execution_count": 412,
   "metadata": {
    "collapsed": true
   },
   "outputs": [],
   "source": [
    "df_dep = loop(jan18_dep, lists_dep)"
   ]
  },
  {
   "cell_type": "markdown",
   "metadata": {},
   "source": [
    "### Remove rows with zeros "
   ]
  },
  {
   "cell_type": "code",
   "execution_count": 413,
   "metadata": {
    "collapsed": true
   },
   "outputs": [],
   "source": [
    "def remove_zero_rows(df):\n",
    "    '''\n",
    "    Return Data Frame with zero rows removed and index reseted.\n",
    "    '''\n",
    "    removed = df[(df != 0).all(1)]\n",
    "    \n",
    "    reset = removed.reset_index(drop=True)\n",
    "    \n",
    "    return reset"
   ]
  },
  {
   "cell_type": "code",
   "execution_count": 414,
   "metadata": {
    "collapsed": true
   },
   "outputs": [],
   "source": [
    "df = remove_zero_rows(df)\n",
    "df_dep = remove_zero_rows(df_dep)"
   ]
  },
  {
   "cell_type": "markdown",
   "metadata": {},
   "source": [
    "### Binarize "
   ]
  },
  {
   "cell_type": "markdown",
   "metadata": {},
   "source": [
    "#### Race "
   ]
  },
  {
   "cell_type": "code",
   "execution_count": 415,
   "metadata": {
    "collapsed": true
   },
   "outputs": [],
   "source": [
    "from sklearn.preprocessing import OneHotEncoder"
   ]
  },
  {
   "cell_type": "code",
   "execution_count": 416,
   "metadata": {
    "collapsed": true
   },
   "outputs": [],
   "source": [
    "def binarize(df, col, val_names, leave_out=True):\n",
    "    ''' \n",
    "    Given a Data Frame, a column name and its value names, binarizes that column in the data frame.\n",
    "    If leave_out is true, you remove the last\n",
    "    '''\n",
    "    series = df[col]\n",
    "    array_2d = series.values.reshape(-1,1)\n",
    "    \n",
    "    enc = OneHotEncoder()\n",
    "    array = enc.fit(array_2d).transform(array_2d).toarray()\n",
    "    df_col = pd.DataFrame(array, columns = val_names)\n",
    "    \n",
    "    \n",
    "    dropped_df = df.drop(col, axis = 1, inplace = False)\n",
    "    new_df = pd.concat([dropped_df, df_col], axis = 1)\n",
    "    \n",
    "    if leave_out:\n",
    "        new_df.drop(val_names[-1], axis=1, inplace = True)  \n",
    "    \n",
    "    return new_df"
   ]
  },
  {
   "cell_type": "code",
   "execution_count": 417,
   "metadata": {
    "collapsed": true
   },
   "outputs": [],
   "source": [
    "races = ['White', 'Black', 'Asian', 'Other', 'Native', 'Island', 'Hispanic']\n",
    "races = [i.lower() for i in races]"
   ]
  },
  {
   "cell_type": "code",
   "execution_count": 418,
   "metadata": {
    "collapsed": true
   },
   "outputs": [],
   "source": [
    "new_df = binarize(df, 'race', races)\n",
    "new_df_dep = binarize(df_dep, 'race', races)"
   ]
  },
  {
   "cell_type": "markdown",
   "metadata": {},
   "source": [
    "#### Label "
   ]
  },
  {
   "cell_type": "code",
   "execution_count": 419,
   "metadata": {
    "collapsed": true
   },
   "outputs": [],
   "source": [
    "smart_bin_d = {1 : 1, 2: 0, 3:0}\n",
    "smart_bin = ['phone', 'smart_bin', smart_bin_d]"
   ]
  },
  {
   "cell_type": "code",
   "execution_count": 420,
   "metadata": {
    "collapsed": true
   },
   "outputs": [],
   "source": [
    "df = mapping(new_df, smart_bin[0], smart_bin[1], smart_bin[2])"
   ]
  },
  {
   "cell_type": "code",
   "execution_count": 421,
   "metadata": {
    "collapsed": true
   },
   "outputs": [],
   "source": [
    "phone_names = ['smart', 'dumb', 'none']\n",
    "broadband_names = ['home', 'outside home', 'no internet']\n",
    "\n",
    "dependence = pd.crosstab(index = new_df_dep['phone'], columns = new_df_dep['broadband'], normalize = True)"
   ]
  },
  {
   "cell_type": "code",
   "execution_count": 422,
   "metadata": {
    "collapsed": true
   },
   "outputs": [],
   "source": [
    "dependence.columns = broadband_names"
   ]
  },
  {
   "cell_type": "code",
   "execution_count": 423,
   "metadata": {
    "collapsed": true
   },
   "outputs": [],
   "source": [
    "dependence.index = phone_names"
   ]
  },
  {
   "cell_type": "code",
   "execution_count": 424,
   "metadata": {},
   "outputs": [
    {
     "data": {
      "text/html": [
       "<div>\n",
       "<style>\n",
       "    .dataframe thead tr:only-child th {\n",
       "        text-align: right;\n",
       "    }\n",
       "\n",
       "    .dataframe thead th {\n",
       "        text-align: left;\n",
       "    }\n",
       "\n",
       "    .dataframe tbody tr th {\n",
       "        vertical-align: top;\n",
       "    }\n",
       "</style>\n",
       "<table border=\"1\" class=\"dataframe\">\n",
       "  <thead>\n",
       "    <tr style=\"text-align: right;\">\n",
       "      <th></th>\n",
       "      <th>home</th>\n",
       "      <th>outside home</th>\n",
       "      <th>no internet</th>\n",
       "    </tr>\n",
       "  </thead>\n",
       "  <tbody>\n",
       "    <tr>\n",
       "      <th>smart</th>\n",
       "      <td>0.674699</td>\n",
       "      <td>0.119214</td>\n",
       "      <td>0.017121</td>\n",
       "    </tr>\n",
       "    <tr>\n",
       "      <th>dumb</th>\n",
       "      <td>0.083069</td>\n",
       "      <td>0.032340</td>\n",
       "      <td>0.045022</td>\n",
       "    </tr>\n",
       "    <tr>\n",
       "      <th>none</th>\n",
       "      <td>0.007609</td>\n",
       "      <td>0.001268</td>\n",
       "      <td>0.019658</td>\n",
       "    </tr>\n",
       "  </tbody>\n",
       "</table>\n",
       "</div>"
      ],
      "text/plain": [
       "           home  outside home  no internet\n",
       "smart  0.674699      0.119214     0.017121\n",
       "dumb   0.083069      0.032340     0.045022\n",
       "none   0.007609      0.001268     0.019658"
      ]
     },
     "execution_count": 424,
     "metadata": {},
     "output_type": "execute_result"
    }
   ],
   "source": [
    "dependence"
   ]
  },
  {
   "cell_type": "code",
   "execution_count": 425,
   "metadata": {
    "collapsed": true
   },
   "outputs": [],
   "source": [
    "new_df_dep['dep'] = 0\n",
    "new_df_dep.loc[((new_df_dep['broadband'] == 2) | (new_df_dep['broadband'] == 3)) & (new_df_dep['phone']==1), 'dep'] = 1\n",
    "df_dep = new_df_dep.drop(['phone', 'broadband'], axis = 1)"
   ]
  },
  {
   "cell_type": "markdown",
   "metadata": {},
   "source": [
    "## Logistic Regression"
   ]
  },
  {
   "cell_type": "code",
   "execution_count": 426,
   "metadata": {
    "collapsed": true
   },
   "outputs": [],
   "source": [
    "def split(df, label):\n",
    "    y = df[label].values\n",
    "    X = df.drop(label, axis = 1).values\n",
    "    return X, y"
   ]
  },
  {
   "cell_type": "code",
   "execution_count": 427,
   "metadata": {},
   "outputs": [],
   "source": [
    "import statsmodels.api as sm\n",
    "import numpy as np\n",
    "\n",
    "def log_reg(X, y, yname, xnames):\n",
    "    '''\n",
    "    Given X and y and their names, print out Logistic Regression results\n",
    "    '''\n",
    "    \n",
    "    # Add a constant to the numpy array\n",
    "    num_obs = X.shape[0]\n",
    "    const_vec = np.ones(num_obs).reshape((num_obs, 1))\n",
    "    XplusConst = np.hstack((const_vec, X))\n",
    "\n",
    "    # Run Model\n",
    "    LogitModel = sm.Logit(y, XplusConst)\n",
    "    LogitReg_sm = LogitModel.fit()\n",
    "    res = LogitReg_sm\n",
    "    print(LogitReg_sm.summary(yname, ['const']+xnames, 'Logistic Regression'))\n",
    "    \n",
    "    return res"
   ]
  },
  {
   "cell_type": "code",
   "execution_count": 428,
   "metadata": {
    "collapsed": true
   },
   "outputs": [],
   "source": [
    "def run_LR(df, label):\n",
    "    '''\n",
    "    Given name of label column, run LR.\n",
    "    '''\n",
    "    \n",
    "    X, y = split(df, label)\n",
    "    \n",
    "    xnames = list(df.columns.drop(label))\n",
    "    \n",
    "    lr = log_reg(X, y, label, xnames)\n",
    "    \n",
    "    return lr"
   ]
  },
  {
   "cell_type": "markdown",
   "metadata": {},
   "source": [
    "### Smartphone"
   ]
  },
  {
   "cell_type": "code",
   "execution_count": 429,
   "metadata": {
    "collapsed": true
   },
   "outputs": [],
   "source": [
    "def sig_plot(df, lr, image_name):\n",
    "    \n",
    "    '''\n",
    "    Given Regression results, save a significance plot of the variables.\n",
    "    Thanks to https://zhiyzuo.github.io/Python-Plot-Regression-Coefficient/.\n",
    "    '''\n",
    "    err_series = lr.params - lr.conf_int()[:,0]\n",
    "    err = err_series[1:]\n",
    "    params = lr.params[1:]\n",
    "    \n",
    "    names = df.columns[:-1]\n",
    "    \n",
    "    coef_df = pd.DataFrame({'coef': params,\n",
    "                        'err': err,\n",
    "                        'varname': names\n",
    "                       })\n",
    "    \n",
    "    fig, ax = plt.subplots(figsize=(8, 5))\n",
    "    coef_df.plot(x='varname', y='coef', kind='bar', \n",
    "                 ax=ax, color='none', \n",
    "                 yerr='err', legend=False)\n",
    "    ax.set_ylabel('Beta')\n",
    "    ax.set_xlabel('Variable')\n",
    "    ax.scatter(x=pd.np.arange(coef_df.shape[0]), \n",
    "               marker='s', s=120, \n",
    "               y=coef_df['coef'], color='black')\n",
    "    ax.axhline(y=0, linestyle='--', color='black', linewidth=4)\n",
    "    ax.xaxis.set_ticks_position('none')\n",
    "    _ = ax.set_xticklabels(names, \n",
    "                           rotation=0, fontsize=12)\n",
    "    plt.savefig(image_name, bbox_inches='tight')\n",
    "    \n",
    "    return"
   ]
  },
  {
   "cell_type": "code",
   "execution_count": 430,
   "metadata": {},
   "outputs": [],
   "source": [
    "df = df.drop(['island'], axis = 1)"
   ]
  },
  {
   "cell_type": "code",
   "execution_count": 431,
   "metadata": {},
   "outputs": [
    {
     "name": "stdout",
     "output_type": "stream",
     "text": [
      "Optimization terminated successfully.\n",
      "         Current function value: 0.367908\n",
      "         Iterations 8\n",
      "                             Logistic Regression                              \n",
      "==============================================================================\n",
      "Dep. Variable:              smart_bin   No. Observations:                 1583\n",
      "Model:                          Logit   Df Residuals:                     1572\n",
      "Method:                           MLE   Df Model:                           10\n",
      "Date:                Sun, 14 Jul 2019   Pseudo R-squ.:                  0.2422\n",
      "Time:                        00:48:03   Log-Likelihood:                -582.40\n",
      "converged:                       True   LL-Null:                       -768.57\n",
      "                                        LLR p-value:                 7.145e-74\n",
      "==============================================================================\n",
      "                 coef    std err          z      P>|z|      [0.025      0.975]\n",
      "------------------------------------------------------------------------------\n",
      "const          3.0207      0.494      6.113      0.000       2.052       3.989\n",
      "sex           -0.0298      0.151     -0.198      0.843      -0.325       0.265\n",
      "age           -0.0569      0.005    -12.462      0.000      -0.066      -0.048\n",
      "educ           0.2277      0.050      4.587      0.000       0.130       0.325\n",
      "non_hisp      -0.4502      0.302     -1.492      0.136      -1.042       0.141\n",
      "inc            0.2978      0.036      8.294      0.000       0.227       0.368\n",
      "white          0.0115      0.381      0.030      0.976      -0.736       0.759\n",
      "black          0.0726      0.420      0.173      0.863      -0.750       0.895\n",
      "asian          1.1769      0.845      1.393      0.164      -0.479       2.833\n",
      "other         -0.2413      0.914     -0.264      0.792      -2.033       1.551\n",
      "native         0.0756      0.658      0.115      0.909      -1.214       1.365\n",
      "==============================================================================\n"
     ]
    }
   ],
   "source": [
    "lr = run_LR(df, 'smart_bin')"
   ]
  },
  {
   "cell_type": "code",
   "execution_count": 432,
   "metadata": {},
   "outputs": [
    {
     "data": {
      "image/png": "[encoded data removed]",
      "text/plain": [
       "<matplotlib.figure.Figure at 0x1c1bcf56d8>"
      ]
     },
     "metadata": {},
     "output_type": "display_data"
    }
   ],
   "source": [
    "sig_plot(df, lr, 'smart')"
   ]
  },
  {
   "cell_type": "markdown",
   "metadata": {},
   "source": [
    "### Dependence "
   ]
  },
  {
   "cell_type": "code",
   "execution_count": 433,
   "metadata": {},
   "outputs": [],
   "source": [
    "df_dep = df_dep.drop(['island'], axis = 1)"
   ]
  },
  {
   "cell_type": "code",
   "execution_count": 434,
   "metadata": {},
   "outputs": [
    {
     "name": "stdout",
     "output_type": "stream",
     "text": [
      "Optimization terminated successfully.\n",
      "         Current function value: 0.335734\n",
      "         Iterations 7\n",
      "                             Logistic Regression                              \n",
      "==============================================================================\n",
      "Dep. Variable:                    dep   No. Observations:                 1577\n",
      "Model:                          Logit   Df Residuals:                     1566\n",
      "Method:                           MLE   Df Model:                           10\n",
      "Date:                Sun, 14 Jul 2019   Pseudo R-squ.:                  0.1570\n",
      "Time:                        00:48:03   Log-Likelihood:                -529.45\n",
      "converged:                       True   LL-Null:                       -628.05\n",
      "                                        LLR p-value:                 6.225e-37\n",
      "==============================================================================\n",
      "                 coef    std err          z      P>|z|      [0.025      0.975]\n",
      "------------------------------------------------------------------------------\n",
      "const          2.4900      0.450      5.539      0.000       1.609       3.371\n",
      "sex           -0.2264      0.163     -1.392      0.164      -0.545       0.092\n",
      "age           -0.0183      0.004     -4.156      0.000      -0.027      -0.010\n",
      "educ          -0.2224      0.054     -4.114      0.000      -0.328      -0.116\n",
      "non_hisp      -0.9011      0.232     -3.884      0.000      -1.356      -0.446\n",
      "inc           -0.2425      0.037     -6.478      0.000      -0.316      -0.169\n",
      "white          0.4972      0.303      1.638      0.101      -0.098       1.092\n",
      "black          0.8341      0.350      2.382      0.017       0.148       1.520\n",
      "asian          0.1323      0.585      0.226      0.821      -1.014       1.279\n",
      "other          1.7901      0.771      2.320      0.020       0.278       3.302\n",
      "native         1.3969      0.563      2.479      0.013       0.293       2.501\n",
      "==============================================================================\n"
     ]
    }
   ],
   "source": [
    "lr = run_LR(df_dep, 'dep')"
   ]
  },
  {
   "cell_type": "code",
   "execution_count": 435,
   "metadata": {},
   "outputs": [
    {
     "data": {
      "image/png": "[encoded data removed]",
      "text/plain": [
       "<matplotlib.figure.Figure at 0x1c1ad935f8>"
      ]
     },
     "metadata": {},
     "output_type": "display_data"
    }
   ],
   "source": [
    "sig_plot(df, lr, 'dep')"
   ]
  },
  {
   "cell_type": "code",
   "execution_count": 436,
   "metadata": {},
   "outputs": [],
   "source": [
    "discrete_margins = lr.get_margeff()"
   ]
  },
  {
   "cell_type": "code",
   "execution_count": 437,
   "metadata": {},
   "outputs": [
    {
     "data": {
      "text/html": [
       "<table class=\"simpletable\">\n",
       "<caption>Logit Marginal Effects</caption>\n",
       "<tr>\n",
       "  <th>Dep. Variable:</th>    <td>y</td>   \n",
       "</tr>\n",
       "<tr>\n",
       "  <th>Method:</th>         <td>dydx</td>  \n",
       "</tr>\n",
       "<tr>\n",
       "  <th>At:</th>            <td>overall</td>\n",
       "</tr>\n",
       "</table>\n",
       "<table class=\"simpletable\">\n",
       "<tr>\n",
       "   <th></th>      <th>dy/dx</th>    <th>std err</th>      <th>z</th>      <th>P>|z|</th>  <th>[0.025</th>    <th>0.975]</th>  \n",
       "</tr>\n",
       "<tr>\n",
       "  <th>x1</th>  <td>   -0.0229</td> <td>    0.016</td> <td>   -1.393</td> <td> 0.164</td> <td>   -0.055</td> <td>    0.009</td>\n",
       "</tr>\n",
       "<tr>\n",
       "  <th>x2</th>  <td>   -0.0019</td> <td>    0.000</td> <td>   -4.192</td> <td> 0.000</td> <td>   -0.003</td> <td>   -0.001</td>\n",
       "</tr>\n",
       "<tr>\n",
       "  <th>x3</th>  <td>   -0.0225</td> <td>    0.005</td> <td>   -4.148</td> <td> 0.000</td> <td>   -0.033</td> <td>   -0.012</td>\n",
       "</tr>\n",
       "<tr>\n",
       "  <th>x4</th>  <td>   -0.0913</td> <td>    0.023</td> <td>   -3.944</td> <td> 0.000</td> <td>   -0.137</td> <td>   -0.046</td>\n",
       "</tr>\n",
       "<tr>\n",
       "  <th>x5</th>  <td>   -0.0246</td> <td>    0.004</td> <td>   -6.589</td> <td> 0.000</td> <td>   -0.032</td> <td>   -0.017</td>\n",
       "</tr>\n",
       "<tr>\n",
       "  <th>x6</th>  <td>    0.0504</td> <td>    0.031</td> <td>    1.643</td> <td> 0.100</td> <td>   -0.010</td> <td>    0.110</td>\n",
       "</tr>\n",
       "<tr>\n",
       "  <th>x7</th>  <td>    0.0845</td> <td>    0.035</td> <td>    2.395</td> <td> 0.017</td> <td>    0.015</td> <td>    0.154</td>\n",
       "</tr>\n",
       "<tr>\n",
       "  <th>x8</th>  <td>    0.0134</td> <td>    0.059</td> <td>    0.226</td> <td> 0.821</td> <td>   -0.103</td> <td>    0.130</td>\n",
       "</tr>\n",
       "<tr>\n",
       "  <th>x9</th>  <td>    0.1813</td> <td>    0.078</td> <td>    2.332</td> <td> 0.020</td> <td>    0.029</td> <td>    0.334</td>\n",
       "</tr>\n",
       "<tr>\n",
       "  <th>x10</th> <td>    0.1415</td> <td>    0.057</td> <td>    2.494</td> <td> 0.013</td> <td>    0.030</td> <td>    0.253</td>\n",
       "</tr>\n",
       "</table>"
      ],
      "text/plain": [
       "<class 'statsmodels.iolib.summary.Summary'>\n",
       "\"\"\"\n",
       "        Logit Marginal Effects       \n",
       "=====================================\n",
       "Dep. Variable:                      y\n",
       "Method:                          dydx\n",
       "At:                           overall\n",
       "==============================================================================\n",
       "                dy/dx    std err          z      P>|z|      [0.025      0.975]\n",
       "------------------------------------------------------------------------------\n",
       "x1            -0.0229      0.016     -1.393      0.164      -0.055       0.009\n",
       "x2            -0.0019      0.000     -4.192      0.000      -0.003      -0.001\n",
       "x3            -0.0225      0.005     -4.148      0.000      -0.033      -0.012\n",
       "x4            -0.0913      0.023     -3.944      0.000      -0.137      -0.046\n",
       "x5            -0.0246      0.004     -6.589      0.000      -0.032      -0.017\n",
       "x6             0.0504      0.031      1.643      0.100      -0.010       0.110\n",
       "x7             0.0845      0.035      2.395      0.017       0.015       0.154\n",
       "x8             0.0134      0.059      0.226      0.821      -0.103       0.130\n",
       "x9             0.1813      0.078      2.332      0.020       0.029       0.334\n",
       "x10            0.1415      0.057      2.494      0.013       0.030       0.253\n",
       "==============================================================================\n",
       "\"\"\""
      ]
     },
     "execution_count": 437,
     "metadata": {},
     "output_type": "execute_result"
    }
   ],
   "source": [
    "discrete_margins.summary()"
   ]
  },
  {
   "cell_type": "code",
   "execution_count": 438,
   "metadata": {
    "collapsed": true
   },
   "outputs": [],
   "source": [
    "def univariate(df, col, label):\n",
    "    '''\n",
    "    Given data frame and name of predictor and label, output logistic regression.\n",
    "    '''\n",
    "    \n",
    "    TO_DROP = df.columns.drop([label, col])\n",
    "    col_df = df.drop(TO_DROP, axis = 1)\n",
    "    \n",
    "    LR = run_LR(col_df, label)\n",
    "    \n",
    "    return LR"
   ]
  },
  {
   "cell_type": "code",
   "execution_count": 439,
   "metadata": {},
   "outputs": [
    {
     "name": "stdout",
     "output_type": "stream",
     "text": [
      "Optimization terminated successfully.\n",
      "         Current function value: 0.388122\n",
      "         Iterations 6\n",
      "                             Logistic Regression                              \n",
      "==============================================================================\n",
      "Dep. Variable:                    dep   No. Observations:                 1577\n",
      "Model:                          Logit   Df Residuals:                     1575\n",
      "Method:                           MLE   Df Model:                            1\n",
      "Date:                Sun, 14 Jul 2019   Pseudo R-squ.:                 0.02544\n",
      "Time:                        00:48:04   Log-Likelihood:                -612.07\n",
      "converged:                       True   LL-Null:                       -628.05\n",
      "                                        LLR p-value:                 1.577e-08\n",
      "==============================================================================\n",
      "                 coef    std err          z      P>|z|      [0.025      0.975]\n",
      "------------------------------------------------------------------------------\n",
      "const         -0.7597      0.200     -3.797      0.000      -1.152      -0.368\n",
      "age           -0.0228      0.004     -5.508      0.000      -0.031      -0.015\n",
      "==============================================================================\n"
     ]
    }
   ],
   "source": [
    "lr = univariate(df_dep, 'age', 'dep')"
   ]
  },
  {
   "cell_type": "markdown",
   "metadata": {},
   "source": [
    "## ML "
   ]
  },
  {
   "cell_type": "code",
   "execution_count": 440,
   "metadata": {
    "collapsed": true
   },
   "outputs": [],
   "source": [
    "from sklearn.model_selection import train_test_split\n",
    "from sklearn import metrics \n",
    "from sklearn.metrics import classification_report, confusion_matrix\n",
    "\n",
    "#Models\n",
    "from sklearn.linear_model import LogisticRegression\n",
    "from sklearn.svm import SVC, LinearSVC\n",
    "from sklearn.ensemble import RandomForestClassifier\n",
    "from sklearn.neighbors import KNeighborsClassifier\n",
    "from sklearn.tree import DecisionTreeClassifier"
   ]
  },
  {
   "cell_type": "code",
   "execution_count": 441,
   "metadata": {
    "collapsed": true
   },
   "outputs": [],
   "source": [
    "X = df_dep.drop('dep', axis = 1)\n",
    "y = df_dep['dep']"
   ]
  },
  {
   "cell_type": "code",
   "execution_count": 442,
   "metadata": {
    "collapsed": true
   },
   "outputs": [],
   "source": [
    "X_v = X.values\n",
    "y_v = y.loc[:,].values"
   ]
  },
  {
   "cell_type": "code",
   "execution_count": 443,
   "metadata": {
    "collapsed": true
   },
   "outputs": [],
   "source": [
    "X_train, X_test, y_train, y_test = train_test_split(X_v, y_v, test_size = .3,\n",
    "                                                    random_state=25)"
   ]
  },
  {
   "cell_type": "code",
   "execution_count": 444,
   "metadata": {
    "collapsed": true
   },
   "outputs": [],
   "source": [
    "def run_ML(model, X_train = X_train, X_test=X_test, y_train=y_train, y_test=y_test):\n",
    "    model.fit(X_train, y_train)\n",
    "    y_pred = model.predict(X_test)\n",
    "    print(classification_report(y_test, y_pred))\n",
    "    score = round(model.score(X_test, y_test) * 100,2)\n",
    "    print('accuracy score:', score)\n",
    "    return score"
   ]
  },
  {
   "cell_type": "markdown",
   "metadata": {},
   "source": [
    "### Logistic Regression  "
   ]
  },
  {
   "cell_type": "code",
   "execution_count": 445,
   "metadata": {},
   "outputs": [
    {
     "name": "stdout",
     "output_type": "stream",
     "text": [
      "             precision    recall  f1-score   support\n",
      "\n",
      "          0       0.88      1.00      0.93       412\n",
      "          1       0.67      0.06      0.12        62\n",
      "\n",
      "avg / total       0.85      0.87      0.83       474\n",
      "\n"
     ]
    }
   ],
   "source": [
    "model = LogisticRegression()\n",
    "model.fit(X_train, y_train)\n",
    "y_pred = model.predict(X_test)\n",
    "cr = classification_report(y_test, y_pred)\n",
    "print(cr)"
   ]
  },
  {
   "cell_type": "code",
   "execution_count": 446,
   "metadata": {},
   "outputs": [
    {
     "name": "stdout",
     "output_type": "stream",
     "text": [
      "accuracy score: 87.34\n"
     ]
    }
   ],
   "source": [
    "score = round(model.score(X_test, y_test) * 100,2)\n",
    "print('accuracy score:', score)"
   ]
  },
  {
   "cell_type": "code",
   "execution_count": 447,
   "metadata": {},
   "outputs": [
    {
     "data": {
      "text/plain": [
       "87.340000000000003"
      ]
     },
     "execution_count": 447,
     "metadata": {},
     "output_type": "execute_result"
    }
   ],
   "source": [
    "acc_log = round(LogReg.score(X_test, y_test) * 100,2)\n",
    "acc_log"
   ]
  },
  {
   "cell_type": "code",
   "execution_count": 448,
   "metadata": {},
   "outputs": [
    {
     "name": "stdout",
     "output_type": "stream",
     "text": [
      "             precision    recall  f1-score   support\n",
      "\n",
      "          0       0.88      1.00      0.93       412\n",
      "          1       0.67      0.06      0.12        62\n",
      "\n",
      "avg / total       0.85      0.87      0.83       474\n",
      "\n",
      "accuracy score: 87.34\n"
     ]
    }
   ],
   "source": [
    "LogReg = LogisticRegression()\n",
    "acc_log = run_ML(LogReg)"
   ]
  },
  {
   "cell_type": "code",
   "execution_count": 449,
   "metadata": {},
   "outputs": [
    {
     "data": {
      "text/plain": [
       "87.340000000000003"
      ]
     },
     "execution_count": 449,
     "metadata": {},
     "output_type": "execute_result"
    }
   ],
   "source": [
    "acc_log"
   ]
  },
  {
   "cell_type": "code",
   "execution_count": 450,
   "metadata": {},
   "outputs": [
    {
     "data": {
      "text/plain": [
       "array([[-0.03763877, -0.01490408, -0.25881728, -0.66844957, -0.22175602,\n",
       "         0.39798798,  0.66664481, -0.52233572,  0.1231662 ,  1.15931818]])"
      ]
     },
     "execution_count": 450,
     "metadata": {},
     "output_type": "execute_result"
    }
   ],
   "source": [
    "LogReg.coef_"
   ]
  },
  {
   "cell_type": "code",
   "execution_count": 451,
   "metadata": {},
   "outputs": [
    {
     "data": {
      "text/plain": [
       "array([ 1.87831009])"
      ]
     },
     "execution_count": 451,
     "metadata": {},
     "output_type": "execute_result"
    }
   ],
   "source": [
    "LogReg.intercept_"
   ]
  },
  {
   "cell_type": "markdown",
   "metadata": {},
   "source": [
    "### DT "
   ]
  },
  {
   "cell_type": "code",
   "execution_count": 452,
   "metadata": {},
   "outputs": [
    {
     "name": "stdout",
     "output_type": "stream",
     "text": [
      "             precision    recall  f1-score   support\n",
      "\n",
      "          0       0.90      0.86      0.88       412\n",
      "          1       0.27      0.34      0.30        62\n",
      "\n",
      "avg / total       0.81      0.79      0.80       474\n",
      "\n",
      "accuracy score: 79.11\n"
     ]
    }
   ],
   "source": [
    "decision_tree = DecisionTreeClassifier()\n",
    "acc_dt=run_ML(decision_tree)"
   ]
  },
  {
   "cell_type": "markdown",
   "metadata": {},
   "source": [
    "### Random Forest "
   ]
  },
  {
   "cell_type": "code",
   "execution_count": 453,
   "metadata": {},
   "outputs": [
    {
     "name": "stdout",
     "output_type": "stream",
     "text": [
      "             precision    recall  f1-score   support\n",
      "\n",
      "          0       0.89      0.95      0.92       412\n",
      "          1       0.44      0.26      0.33        62\n",
      "\n",
      "avg / total       0.84      0.86      0.84       474\n",
      "\n",
      "accuracy score: 86.08\n"
     ]
    }
   ],
   "source": [
    "rf = RandomForestClassifier(n_estimators=500)\n",
    "acc_rf = run_ML(rf)"
   ]
  },
  {
   "cell_type": "markdown",
   "metadata": {},
   "source": [
    "### SVC"
   ]
  },
  {
   "cell_type": "code",
   "execution_count": 454,
   "metadata": {},
   "outputs": [
    {
     "name": "stdout",
     "output_type": "stream",
     "text": [
      "             precision    recall  f1-score   support\n",
      "\n",
      "          0       0.89      0.95      0.92       412\n",
      "          1       0.43      0.24      0.31        62\n",
      "\n",
      "avg / total       0.83      0.86      0.84       474\n",
      "\n",
      "accuracy score: 85.86\n"
     ]
    }
   ],
   "source": [
    "svc = LinearSVC()\n",
    "acc_linear_svc = run_ML(rf)"
   ]
  },
  {
   "cell_type": "markdown",
   "metadata": {},
   "source": [
    "### KNN "
   ]
  },
  {
   "cell_type": "code",
   "execution_count": 455,
   "metadata": {},
   "outputs": [
    {
     "name": "stdout",
     "output_type": "stream",
     "text": [
      "             precision    recall  f1-score   support\n",
      "\n",
      "          0       0.88      0.95      0.92       412\n",
      "          1       0.34      0.16      0.22        62\n",
      "\n",
      "avg / total       0.81      0.85      0.83       474\n",
      "\n",
      "accuracy score: 85.02\n"
     ]
    }
   ],
   "source": [
    "knn = KNeighborsClassifier()\n",
    "acc_knn = run_ML(knn)"
   ]
  },
  {
   "cell_type": "markdown",
   "metadata": {},
   "source": [
    "### Table "
   ]
  },
  {
   "cell_type": "code",
   "execution_count": 456,
   "metadata": {},
   "outputs": [],
   "source": [
    "accuracy = [acc_log, acc_dt, acc_rf, acc_linear_svc, acc_knn]"
   ]
  },
  {
   "cell_type": "code",
   "execution_count": 457,
   "metadata": {
    "collapsed": true
   },
   "outputs": [],
   "source": [
    "res = pd.DataFrame({\n",
    "'accuracy' : accuracy,\n",
    "'model':['Logistic Regression', 'Decision Tree', 'Random Forest', 'Support Vector Classifier', 'K Nearest Neighbors'],\n",
    "}\n",
    ")"
   ]
  },
  {
   "cell_type": "code",
   "execution_count": 458,
   "metadata": {},
   "outputs": [],
   "source": [
    "res.sort_values(by='accuracy', ascending=False, inplace=True)"
   ]
  },
  {
   "cell_type": "code",
   "execution_count": 459,
   "metadata": {},
   "outputs": [
    {
     "data": {
      "text/html": [
       "<div>\n",
       "<style>\n",
       "    .dataframe thead tr:only-child th {\n",
       "        text-align: right;\n",
       "    }\n",
       "\n",
       "    .dataframe thead th {\n",
       "        text-align: left;\n",
       "    }\n",
       "\n",
       "    .dataframe tbody tr th {\n",
       "        vertical-align: top;\n",
       "    }\n",
       "</style>\n",
       "<table border=\"1\" class=\"dataframe\">\n",
       "  <thead>\n",
       "    <tr style=\"text-align: right;\">\n",
       "      <th></th>\n",
       "      <th>model</th>\n",
       "      <th>accuracy</th>\n",
       "    </tr>\n",
       "  </thead>\n",
       "  <tbody>\n",
       "    <tr>\n",
       "      <th>0</th>\n",
       "      <td>Logistic Regression</td>\n",
       "      <td>87.34</td>\n",
       "    </tr>\n",
       "    <tr>\n",
       "      <th>2</th>\n",
       "      <td>Random Forest</td>\n",
       "      <td>86.08</td>\n",
       "    </tr>\n",
       "    <tr>\n",
       "      <th>3</th>\n",
       "      <td>Support Vector Classifier</td>\n",
       "      <td>85.86</td>\n",
       "    </tr>\n",
       "    <tr>\n",
       "      <th>4</th>\n",
       "      <td>K Nearest Neighbors</td>\n",
       "      <td>85.02</td>\n",
       "    </tr>\n",
       "    <tr>\n",
       "      <th>1</th>\n",
       "      <td>Decision Tree</td>\n",
       "      <td>79.11</td>\n",
       "    </tr>\n",
       "  </tbody>\n",
       "</table>\n",
       "</div>"
      ],
      "text/plain": [
       "                       model  accuracy\n",
       "0        Logistic Regression     87.34\n",
       "2              Random Forest     86.08\n",
       "3  Support Vector Classifier     85.86\n",
       "4        K Nearest Neighbors     85.02\n",
       "1              Decision Tree     79.11"
      ]
     },
     "execution_count": 459,
     "metadata": {},
     "output_type": "execute_result"
    }
   ],
   "source": [
    "export = res[['model', 'accuracy']]\n",
    "export"
   ]
  },
  {
   "cell_type": "markdown",
   "metadata": {},
   "source": [
    "TODO: make table nicer"
   ]
  },
  {
   "cell_type": "markdown",
   "metadata": {},
   "source": [
    "### Interpreting Logistic Regression "
   ]
  },
  {
   "cell_type": "code",
   "execution_count": 460,
   "metadata": {
    "collapsed": true
   },
   "outputs": [],
   "source": [
    "crosstab = pd.crosstab(index = df['sex'], columns = df['smart_bin'], normalize = True)"
   ]
  },
  {
   "cell_type": "code",
   "execution_count": 461,
   "metadata": {
    "collapsed": true
   },
   "outputs": [],
   "source": [
    "sex = ['male', 'female']\n",
    "smart = ['no smartphone', 'smartphone']\n"
   ]
  },
  {
   "cell_type": "code",
   "execution_count": 462,
   "metadata": {
    "collapsed": true
   },
   "outputs": [],
   "source": [
    "crosstab.columns = smart\n",
    "crosstab.index = sex"
   ]
  },
  {
   "cell_type": "code",
   "execution_count": 463,
   "metadata": {},
   "outputs": [
    {
     "data": {
      "text/html": [
       "<div>\n",
       "<style>\n",
       "    .dataframe thead tr:only-child th {\n",
       "        text-align: right;\n",
       "    }\n",
       "\n",
       "    .dataframe thead th {\n",
       "        text-align: left;\n",
       "    }\n",
       "\n",
       "    .dataframe tbody tr th {\n",
       "        vertical-align: top;\n",
       "    }\n",
       "</style>\n",
       "<table border=\"1\" class=\"dataframe\">\n",
       "  <thead>\n",
       "    <tr style=\"text-align: right;\">\n",
       "      <th></th>\n",
       "      <th>no smartphone</th>\n",
       "      <th>smartphone</th>\n",
       "    </tr>\n",
       "  </thead>\n",
       "  <tbody>\n",
       "    <tr>\n",
       "      <th>male</th>\n",
       "      <td>0.087808</td>\n",
       "      <td>0.455464</td>\n",
       "    </tr>\n",
       "    <tr>\n",
       "      <th>female</th>\n",
       "      <td>0.101706</td>\n",
       "      <td>0.355022</td>\n",
       "    </tr>\n",
       "  </tbody>\n",
       "</table>\n",
       "</div>"
      ],
      "text/plain": [
       "        no smartphone  smartphone\n",
       "male         0.087808    0.455464\n",
       "female       0.101706    0.355022"
      ]
     },
     "execution_count": 463,
     "metadata": {},
     "output_type": "execute_result"
    }
   ],
   "source": [
    "crosstab"
   ]
  },
  {
   "cell_type": "code",
   "execution_count": 464,
   "metadata": {},
   "outputs": [
    {
     "data": {
      "text/plain": [
       "Text(0.5,1,'Gender & Smartphone ownership')"
      ]
     },
     "execution_count": 464,
     "metadata": {},
     "output_type": "execute_result"
    },
    {
     "data": {
      "image/png": "[encoded data removed]",
      "text/plain": [
       "<matplotlib.figure.Figure at 0x1c1bcdd048>"
      ]
     },
     "metadata": {},
     "output_type": "display_data"
    }
   ],
   "source": [
    "crosstab.plot.bar(stacked=True)\n",
    "plt.ylabel('% of data')\n",
    "plt.xlabel('Gender')\n",
    "plt.title('Gender & Smartphone ownership')"
   ]
  },
  {
   "cell_type": "code",
   "execution_count": 465,
   "metadata": {
    "collapsed": true
   },
   "outputs": [],
   "source": [
    "male = crosstab.iloc[0]\n",
    "fem = crosstab.iloc[1]"
   ]
  },
  {
   "cell_type": "code",
   "execution_count": 466,
   "metadata": {
    "collapsed": true
   },
   "outputs": [],
   "source": [
    "male_smart = male[1]/male[0]\n",
    "female_smart = fem[1]/fem[0]"
   ]
  },
  {
   "cell_type": "code",
   "execution_count": 467,
   "metadata": {},
   "outputs": [
    {
     "data": {
      "text/plain": [
       "5.1870503597122299"
      ]
     },
     "execution_count": 467,
     "metadata": {},
     "output_type": "execute_result"
    }
   ],
   "source": [
    "male_smart"
   ]
  },
  {
   "cell_type": "code",
   "execution_count": 468,
   "metadata": {},
   "outputs": [
    {
     "data": {
      "text/plain": [
       "3.4906832298136647"
      ]
     },
     "execution_count": 468,
     "metadata": {},
     "output_type": "execute_result"
    }
   ],
   "source": [
    "female_smart"
   ]
  },
  {
   "cell_type": "code",
   "execution_count": 469,
   "metadata": {
    "collapsed": true
   },
   "outputs": [],
   "source": [
    "female_to_male= female_smart/male_smart"
   ]
  },
  {
   "cell_type": "code",
   "execution_count": 470,
   "metadata": {},
   "outputs": [
    {
     "data": {
      "text/plain": [
       "0.67296112197517255"
      ]
     },
     "execution_count": 470,
     "metadata": {},
     "output_type": "execute_result"
    }
   ],
   "source": [
    "female_to_male"
   ]
  },
  {
   "cell_type": "code",
   "execution_count": 471,
   "metadata": {},
   "outputs": [
    {
     "data": {
      "text/plain": [
       "1.9600326317878216"
      ]
     },
     "execution_count": 471,
     "metadata": {},
     "output_type": "execute_result"
    }
   ],
   "source": [
    "np.exp(female_to_male)"
   ]
  },
  {
   "cell_type": "code",
   "execution_count": 472,
   "metadata": {},
   "outputs": [
    {
     "data": {
      "text/plain": [
       "1.6461652041542572"
      ]
     },
     "execution_count": 472,
     "metadata": {},
     "output_type": "execute_result"
    }
   ],
   "source": [
    "log_male = np.log(male_smart)\n",
    "log_male"
   ]
  }
 ],
 "metadata": {
  "kernelspec": {
   "display_name": "Python 3",
   "language": "python",
   "name": "python3"
  },
  "language_info": {
   "codemirror_mode": {
    "name": "ipython",
    "version": 3
   },
   "file_extension": ".py",
   "mimetype": "text/x-python",
   "name": "python",
   "nbconvert_exporter": "python",
   "pygments_lexer": "ipython3",
   "version": "3.6.3"
  }
 },
 "nbformat": 4,
 "nbformat_minor": 2
}
